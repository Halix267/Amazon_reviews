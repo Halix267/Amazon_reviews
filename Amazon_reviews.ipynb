{
  "nbformat": 4,
  "nbformat_minor": 0,
  "metadata": {
    "colab": {
      "name": "Amazon_reviews.ipynb",
      "provenance": [],
      "authorship_tag": "ABX9TyPe0SmwUN4AydZSrE2ulY83",
      "include_colab_link": true
    },
    "kernelspec": {
      "name": "python3",
      "display_name": "Python 3"
    },
    "accelerator": "GPU"
  },
  "cells": [
    {
      "cell_type": "markdown",
      "metadata": {
        "id": "view-in-github",
        "colab_type": "text"
      },
      "source": [
        "<a href=\"https://colab.research.google.com/github/Halix267/Amazon_reviews/blob/master/Amazon_reviews.ipynb\" target=\"_parent\"><img src=\"https://colab.research.google.com/assets/colab-badge.svg\" alt=\"Open In Colab\"/></a>"
      ]
    },
    {
      "cell_type": "code",
      "metadata": {
        "id": "aiQo3ocxNLwE",
        "colab_type": "code",
        "colab": {
          "base_uri": "https://localhost:8080/",
          "height": 122
        },
        "outputId": "b7a7908d-9df2-4d50-d4e4-5cbb69f77ea4"
      },
      "source": [
        "from google.colab import drive\n",
        "drive.mount('/content/gdrive')"
      ],
      "execution_count": null,
      "outputs": [
        {
          "output_type": "stream",
          "text": [
            "Go to this URL in a browser: https://accounts.google.com/o/oauth2/auth?client_id=947318989803-6bn6qk8qdgf4n4g3pfee6491hc0brc4i.apps.googleusercontent.com&redirect_uri=urn%3aietf%3awg%3aoauth%3a2.0%3aoob&response_type=code&scope=email%20https%3a%2f%2fwww.googleapis.com%2fauth%2fdocs.test%20https%3a%2f%2fwww.googleapis.com%2fauth%2fdrive%20https%3a%2f%2fwww.googleapis.com%2fauth%2fdrive.photos.readonly%20https%3a%2f%2fwww.googleapis.com%2fauth%2fpeopleapi.readonly\n",
            "\n",
            "Enter your authorization code:\n",
            "··········\n",
            "Mounted at /content/gdrive\n"
          ],
          "name": "stdout"
        }
      ]
    },
    {
      "cell_type": "code",
      "metadata": {
        "id": "t4KS3kSQN_fx",
        "colab_type": "code",
        "colab": {}
      },
      "source": [
        "#importing relevant libaries\n",
        "\n",
        "import pandas as pd\n",
        "import numpy as np\n",
        "from sklearn.model_selection import train_test_split\n",
        "from sklearn.feature_extraction.text import  CountVectorizer\n",
        "from sklearn.naive_bayes import MultinomialNB\n",
        "from sklearn.ensemble import RandomForestClassifier\n",
        "from sklearn.svm import SVC\n"
      ],
      "execution_count": null,
      "outputs": []
    },
    {
      "cell_type": "code",
      "metadata": {
        "id": "DWgazsupOTzP",
        "colab_type": "code",
        "colab": {}
      },
      "source": [
        "dataset=pd.read_json('/content/gdrive/My Drive/Amazon review/Amazon_Instant_Video_5.json',lines=True)\n",
        "Final_data=pd.DataFrame(dataset,columns=['summary','overall']) "
      ],
      "execution_count": null,
      "outputs": []
    },
    {
      "cell_type": "code",
      "metadata": {
        "id": "WHghCQcxlg94",
        "colab_type": "code",
        "colab": {}
      },
      "source": [
        "#Splitting the dataset into training and text set\n",
        "data=Final_data['summary'].values      #Data\n",
        "\n",
        "#Mapping the reviews into positive,negative and neutral\n",
        "sentiment = []\n",
        "for i,row in Final_data.iterrows():\n",
        "    if row['overall'] >3:\n",
        "        sentiment.append(\"positive\")\n",
        "    elif row['overall'] <3:\n",
        "        sentiment.append(\"negative\")\n",
        "    else:\n",
        "        sentiment.append(\"neutral\")\n",
        "Final_data['sentiment']=sentiment\n",
        "Final_data['sentiment']= Final_data['sentiment'].map({'negative':0,'positive':2,'neutral':1})\n",
        "Final_data.drop('overall',axis=1)\n",
        "\n",
        "label=Final_data['sentiment'].values    #Targets\n",
        "\n",
        "X_train,X_test,Y_train,Y_test=train_test_split(data,label,test_size=0.2,random_state=42)\n",
        "\n",
        "\n",
        "\n"
      ],
      "execution_count": null,
      "outputs": []
    },
    {
      "cell_type": "code",
      "metadata": {
        "id": "KKKh0FvEOaFq",
        "colab_type": "code",
        "colab": {
          "base_uri": "https://localhost:8080/",
          "height": 34
        },
        "outputId": "478d6319-dfd7-4c20-dd06-b6cf40ca75dd"
      },
      "source": [
        "#Since we have the summary of the text therefore no need of cleaning the text....Now we can import Countvectorizer to covert text into vectors\n",
        "\n",
        "cv=CountVectorizer()\n",
        "X_train=cv.fit_transform(X_train).toarray()\n",
        "X_test=cv.transform(X_test).toarray()\n",
        "X_train.shape\n",
        "X_test.shape\n"
      ],
      "execution_count": null,
      "outputs": [
        {
          "output_type": "execute_result",
          "data": {
            "text/plain": [
              "(7426, 10230)"
            ]
          },
          "metadata": {
            "tags": []
          },
          "execution_count": 16
        }
      ]
    },
    {
      "cell_type": "code",
      "metadata": {
        "id": "cGIflFQyOcB9",
        "colab_type": "code",
        "colab": {}
      },
      "source": [
        "classifier=MutinomialNB()\n",
        "classifier.fit(X_train,Y_train)\n",
        "scor=classifier.score(X_train,Y_train)\n",
        "\n"
      ],
      "execution_count": null,
      "outputs": []
    },
    {
      "cell_type": "code",
      "metadata": {
        "id": "MVerrDCcwW3O",
        "colab_type": "code",
        "colab": {}
      },
      "source": [
        "print('Accuracy train: ',scor)\n",
        "score=classifier.score(X_test,Y_test)\n",
        "print('Accuracy test: ',score)\n"
      ],
      "execution_count": null,
      "outputs": []
    },
    {
      "cell_type": "code",
      "metadata": {
        "id": "2YNy9jB_9GAL",
        "colab_type": "code",
        "colab": {}
      },
      "source": [
        ""
      ],
      "execution_count": null,
      "outputs": []
    }
  ]
}